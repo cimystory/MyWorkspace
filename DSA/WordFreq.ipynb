{
 "cells": [
  {
   "cell_type": "code",
   "execution_count": 1,
   "metadata": {
    "collapsed": true
   },
   "outputs": [],
   "source": [
    "\"\"\"\n",
    "Example of how to use the algorithm library to sort through a file \n",
    "to return a sorted list of most frequenty used words\n",
    "\"\"\"\n",
    "import numpy as np\n",
    "import re\n",
    "import lib.Algorithms as algos"
   ]
  },
  {
   "cell_type": "code",
   "execution_count": 5,
   "metadata": {
    "collapsed": true
   },
   "outputs": [],
   "source": [
    "\"\"\"\n",
    "function that loads a file and sorts the words in the file based on frequency\n",
    "\"\"\"\n",
    "def wordCount(args,sortFunc = algos.bubble_sort):\n",
    "    # Load into dict output\n",
    "    tempdict = dict()\n",
    "    # initialize lists\n",
    "    idx      = 0\n",
    "    wordList = []\n",
    "    freqList = []\n",
    "    # iterate through words and store them in dict\n",
    "    with open(args) as fid:\n",
    "        for line in fid:\n",
    "            words = str.split(line,\" \")\n",
    "            for word in words:\n",
    "                word  = re.sub('[^a-zA-Z0-9]','',word).lower()\n",
    "                # skip spaces\n",
    "                if word == '':\n",
    "                    continue\n",
    "                # increment if word exists in list\n",
    "                if word in tempdict:\n",
    "                    tempdict[word][1] += 1\n",
    "                    tempidx = tempdict[word][0]\n",
    "                    freqList[tempidx] += 1\n",
    "                # Add new word to hasttable\n",
    "                else:\n",
    "                    tempdict[word] = [idx,1] \n",
    "                    wordList.append(word)\n",
    "                    freqList.append(1)\n",
    "                    idx += 1\n",
    "    ## Sort output freq list along with idx list\n",
    "    freq_out,idx_out = sortFunc(freqList)\n",
    "    out_wordList = [wordList[idx] for idx in idx_out]\n",
    "    return out_wordList,freq_out"
   ]
  },
  {
   "cell_type": "code",
   "execution_count": 11,
   "metadata": {},
   "outputs": [
    {
     "name": "stdout",
     "output_type": "stream",
     "text": [
      "\tUsing quick sort\n",
      "['software', 'systems', 'be', 'a', 'with', 'launch', 'of', 'to', 'the', 'and'] \n",
      " [6, 6, 6, 6, 6, 8, 10, 11, 15, 21]\n",
      "\tUsing a bubble sort\n",
      "['a', 'with', 'software', 'be', 'systems', 'launch', 'of', 'to', 'the', 'and'] \n",
      " [6, 6, 6, 6, 6, 8, 10, 11, 15, 21]\n"
     ]
    }
   ],
   "source": [
    "print(\"\\tUsing quick sort\")\n",
    "wL,fL = wordCount('news.txt',algos.quick_sort)\n",
    "print(wL[-10:],\"\\n\",fL[-10:])\n",
    "print(\"\\tUsing a bubble sort\")\n",
    "wL,fL = wordCount('news.txt',algos.bubble_sort)\n",
    "print(wL[-10:],\"\\n\",fL[-10:])"
   ]
  },
  {
   "cell_type": "code",
   "execution_count": null,
   "metadata": {
    "collapsed": true
   },
   "outputs": [],
   "source": []
  }
 ],
 "metadata": {
  "kernelspec": {
   "display_name": "Python 3",
   "language": "python",
   "name": "python3"
  },
  "language_info": {
   "codemirror_mode": {
    "name": "ipython",
    "version": 3
   },
   "file_extension": ".py",
   "mimetype": "text/x-python",
   "name": "python",
   "nbconvert_exporter": "python",
   "pygments_lexer": "ipython3",
   "version": "3.6.1"
  }
 },
 "nbformat": 4,
 "nbformat_minor": 2
}
