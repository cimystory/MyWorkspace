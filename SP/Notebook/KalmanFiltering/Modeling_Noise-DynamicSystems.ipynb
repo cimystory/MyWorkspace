{
 "cells": [
  {
   "cell_type": "code",
   "execution_count": 96,
   "metadata": {
    "collapsed": true
   },
   "outputs": [],
   "source": [
    "import numpy as np\n",
    "import scipy\n",
    "from filterpy.common import van_loan_discretization\n",
    "import sympy\n",
    "from sympy import (init_printing, Matrix,MatMul, \n",
    "                   integrate, symbols)\n",
    "import matplotlib.pyplot as plt\n",
    "import time\n",
    "import math"
   ]
  },
  {
   "cell_type": "code",
   "execution_count": 22,
   "metadata": {},
   "outputs": [
    {
     "name": "stdout",
     "output_type": "stream",
     "text": [
      "Converting System dynmics matrix (A) into fundamental matrix (F)\n",
      "\n",
      "- x(t) = exp(A*dt) * x(0)\t\t--> dx/dt = Ax\n",
      "- x(t) = F * x(t-1)\t\t\t--> F ~ exp(A*x(t-1)\n",
      "\n",
      "A:  [[0 1]\n",
      " [0 0]] \n",
      "F:  [[ 1.   0.1]\n",
      " [ 0.   1. ]]\n"
     ]
    }
   ],
   "source": [
    "## TIME INVARIENT SYSTEM\n",
    "# Converting System dynamics matrix (A) into fundamental matrix (F)\n",
    "# for Newtons model of position --> x(t) = x(t-1) + v(t)dt\n",
    "dt = 0.1\n",
    "A = np.array([[0, 1], \n",
    "              [0, 0]])\n",
    "F = scipy.linalg.expm(A*dt)\n",
    "# x(t) = exp(A*dt) * x(0)\n",
    "# or...\n",
    "# x(t) = F * x(t-1)\n",
    "print(\"Converting System dynmics matrix (A) into fundamental matrix (F)\\n\")\n",
    "print(\"- x(t) = exp(A*dt) * x(0)\\t\\t--> dx/dt = Ax\")\n",
    "print(\"- x(t) = F * x(t-1)\\t\\t\\t--> F ~ exp(A*x(t-1)\\n\")\n",
    "print(\"A: \",A,\"\\nF: \",F)"
   ]
  },
  {
   "cell_type": "code",
   "execution_count": 21,
   "metadata": {},
   "outputs": [
    {
     "name": "stdout",
     "output_type": "stream",
     "text": [
      "F:  [[ 1.   0.1]\n",
      " [ 0.   1. ]]\n"
     ]
    }
   ],
   "source": [
    "# Another quick easy way of converting A to F ...\n",
    "A = np.array([[0., 1.], [0., 0.]])\n",
    "G = np.array([[0.], [0.]]) # white noise scaling\n",
    "F, Q = van_loan_discretization(A, G, dt=0.1)\n",
    "print(\"F: \",F)"
   ]
  },
  {
   "cell_type": "code",
   "execution_count": 36,
   "metadata": {},
   "outputs": [
    {
     "name": "stdout",
     "output_type": "stream",
     "text": [
      "Solving for fundamental matrix in Mass-spring-damper system\n",
      "F1 --> first 2 terms in taylors series\n",
      "F2 --> scipy.linalg.expm\n",
      "F3 --> van_loan_discretization\n",
      "\n",
      "F1:  [[  1.00000000e+00   1.00000000e-01]\n",
      " [ -1.00000000e-04   9.95000000e-01]]\n",
      "F2:  [[  9.99995008e-01   9.97502499e-02]\n",
      " [ -9.97502499e-05   9.95007496e-01]]\n",
      "F3:  [[  9.99995008e-01   9.97502499e-02]\n",
      " [ -9.97502499e-05   9.95007496e-01]]\n",
      "\n",
      "ERROR\n",
      "\n",
      "F1,F2 Error:  [[  4.99167291e-06   2.49750104e-04]\n",
      " [ -2.49750104e-07  -7.49583229e-06]]\n",
      "F2,F3 Error:  [[  1.11022302e-16   1.38777878e-17]\n",
      " [  0.00000000e+00   1.11022302e-16]]\n"
     ]
    }
   ],
   "source": [
    "# Another example:\n",
    "# Mass-spring-damper system\n",
    "# u = mx\"+cx'+kx --becomes--> x\" = -c/m*x2 - k/m*x1 - 1/m*u \n",
    "#  Matrix form -->            [x˙1]   [0          1][x1]   [0  ]\n",
    "#                             [x˙2] = [−k/m    −c/m][x1] + [1/m]u\n",
    "dt = 0.1 # frame rate (s)\n",
    "k  = 0.1 # spring constant\n",
    "m  = 100 # mass\n",
    "c  = 5   # damping coefficient\n",
    "A = np.array([[0.,1.],[-k/m,-c/m]])\n",
    "G = np.array([[0.], [0.]]) # white noise scaling\n",
    "# Solving for F\n",
    "#    F =   [1   dt]\n",
    "#          [-(k/m)t− (c/m)t]\n",
    "\n",
    "# Evaluating different methods\n",
    "F1 = np.array([[1.,dt],[-dt*k/m,1-dt*c/m]])\n",
    "F2 = scipy.linalg.expm(A*dt) \n",
    "F3, _ = van_loan_discretization(A, G, dt=0.1)\n",
    "\n",
    "print(\"Solving for fundamental matrix in Mass-spring-damper system\")\n",
    "print(\"F1 --> first 2 terms in taylors series\")\n",
    "print(\"F2 --> scipy.linalg.expm\")\n",
    "print(\"F3 --> van_loan_discretization\\n\")\n",
    "\n",
    "print(\"F1: \",F1)\n",
    "print(\"F2: \",F2)\n",
    "print(\"F3: \",F3)\n",
    "print(\"\\nERROR\\n\")\n",
    "print(\"F1,F2 Error: \",F1-F2)\n",
    "print(\"F2,F3 Error: \",F2-F3)"
   ]
  },
  {
   "cell_type": "code",
   "execution_count": 48,
   "metadata": {},
   "outputs": [
    {
     "name": "stdout",
     "output_type": "stream",
     "text": [
      "Solve for Qc over time interval 0 to Δt:\n",
      "\tQ = ∫ F(t)* Qc * F(t)𝖳 * dt\n"
     ]
    },
    {
     "data": {
      "text/latex": [
       "$$\\left[\\begin{matrix}\\frac{\\Delta{t}^{5}}{20} & \\frac{\\Delta{t}^{4}}{8} & \\frac{\\Delta{t}^{3}}{6}\\\\\\frac{\\Delta{t}^{4}}{8} & \\frac{\\Delta{t}^{3}}{3} & \\frac{\\Delta{t}^{2}}{2}\\\\\\frac{\\Delta{t}^{3}}{6} & \\frac{\\Delta{t}^{2}}{2} & \\Delta{t}\\end{matrix}\\right] \\Phi_s$$"
      ],
      "text/plain": [
       "⎡         5           4           3⎤      \n",
       "⎢\\Delta{t}   \\Delta{t}   \\Delta{t} ⎥      \n",
       "⎢──────────  ──────────  ──────────⎥      \n",
       "⎢    20          8           6     ⎥      \n",
       "⎢                                  ⎥      \n",
       "⎢         4           3           2⎥      \n",
       "⎢\\Delta{t}   \\Delta{t}   \\Delta{t} ⎥      \n",
       "⎢──────────  ──────────  ──────────⎥⋅\\Phiₛ\n",
       "⎢    8           3           2     ⎥      \n",
       "⎢                                  ⎥      \n",
       "⎢         3           2            ⎥      \n",
       "⎢\\Delta{t}   \\Delta{t}             ⎥      \n",
       "⎢──────────  ──────────  \\Delta{t} ⎥      \n",
       "⎣    6           2                 ⎦      "
      ]
     },
     "execution_count": 48,
     "metadata": {},
     "output_type": "execute_result"
    }
   ],
   "source": [
    "# Initializing for white noise in a Newtonian Model\n",
    "#       x(t) = x(t-1) + x(t)'dt + x(t)\"/2*dt^2\n",
    "init_printing(use_latex='mathjax')\n",
    "dt, phi = symbols('\\Delta{t} \\Phi_s')\n",
    "F_k = Matrix([[1, dt, dt**2/2],\n",
    "              [0,  1,      dt],\n",
    "              [0,  0,       1]])\n",
    "Q_c = Matrix([[0, 0, 0],\n",
    "              [0, 0, 0],\n",
    "              [0, 0, 1]])*phi\n",
    "# \n",
    "print(\"Solve for Qc over time interval 0 to Δt:\" )\n",
    "print(\"\\tQ = ∫ F(t)* Qc * F(t)𝖳 * dt\")\n",
    "Q=sympy.integrate(F_k * Q_c * F_k.T, (dt, 0, dt))\n",
    "# factor phi out of the matrix to make it more readable\n",
    "Q = Q / phi\n",
    "sympy.MatMul(Q, phi)"
   ]
  },
  {
   "cell_type": "code",
   "execution_count": 64,
   "metadata": {},
   "outputs": [
    {
     "name": "stdout",
     "output_type": "stream",
     "text": [
      "For piecewise white noise model: \n",
      "\tdiscontinuous jump in acceleration at each time step\n",
      "\t f(x) = Fx + Γw    (Γ = noise gain )\n",
      "\t\t\twhere Γ:  Matrix([[\\Delta{t}**2/2], [\\Delta{t}], [1]])\n",
      "\n",
      "Qc = 𝔼[Γw(t) * w(t) * Γ𝖳]=   Γ * σ2 *Γ𝖳\n",
      "Now...Solve for Qc over time interval 0 to Δt:\n"
     ]
    },
    {
     "data": {
      "text/latex": [
       "$$\\left[\\begin{matrix}\\frac{\\Delta{t}^{4}}{4} & \\frac{\\Delta{t}^{3}}{2} & \\frac{\\Delta{t}^{2}}{2}\\\\\\frac{\\Delta{t}^{3}}{2} & \\Delta{t}^{2} & \\Delta{t}\\\\\\frac{\\Delta{t}^{2}}{2} & \\Delta{t} & 1\\end{matrix}\\right] \\sigma^{2}_{v}$$"
      ],
      "text/plain": [
       "⎡         4           3           2⎤    \n",
       "⎢\\Delta{t}   \\Delta{t}   \\Delta{t} ⎥    \n",
       "⎢──────────  ──────────  ──────────⎥    \n",
       "⎢    4           2           2     ⎥    \n",
       "⎢                                  ⎥    \n",
       "⎢         3                        ⎥    \n",
       "⎢\\Delta{t}            2            ⎥    \n",
       "⎢──────────  \\Delta{t}   \\Delta{t} ⎥⋅σ²ᵥ\n",
       "⎢    2                             ⎥    \n",
       "⎢                                  ⎥    \n",
       "⎢         2                        ⎥    \n",
       "⎢\\Delta{t}                         ⎥    \n",
       "⎢──────────  \\Delta{t}       1     ⎥    \n",
       "⎣    2                             ⎦    "
      ]
     },
     "execution_count": 64,
     "metadata": {},
     "output_type": "execute_result"
    }
   ],
   "source": [
    "# PIECEWISE WHITE NOISE MODEL\n",
    "# -  Assumes that the that highest order term (acceleration) is constant \n",
    "#    for the duration of each time period, but differs for each time period, \n",
    "#    and each of these is uncorrelated between time periods.\n",
    "# i.e. \"There is discontinuous jump in acceleration at each time step\"\n",
    "\n",
    "# f(x) = Fx + Γw    (Γ = noise gain Γ=[0.5*dt^2 ]\n",
    "#                                     [   dt    ]\n",
    "#                                     [   1     ]\n",
    "\n",
    "# and... Qc = 𝔼[Γw(t) * w(t) * Γ𝖳]=   Γ * σ2 *Γ𝖳\n",
    "init_printing(use_latex='mathjax')\n",
    "dt, phi = symbols('\\Delta{t} \\Phi_s')\n",
    "F_k = Matrix([[1, dt, dt**2/2],\n",
    "              [0,  1,      dt],\n",
    "              [0,  0,       1]])\n",
    "Q_c = Matrix([[0, 0, 0],\n",
    "              [0, 0, 0],\n",
    "              [0, 0, 1]])*phi\n",
    "var=symbols('sigma^2_v')\n",
    "v = Matrix([[dt**2 / 2], [dt], [1]])\n",
    "print(\"For piecewise white noise model: \\n\\tdiscontinuous jump in acceleration at each time step\")\n",
    "print(\"\\t f(x) = Fx + Γw    (Γ = noise gain )\")\n",
    "print(\"\\t\\t\\twhere Γ: \",v)\n",
    "print(\"\\nQc = 𝔼[Γw(t) * w(t) * Γ𝖳]=   Γ * σ2 *Γ𝖳\")\n",
    "print(\"Now...Solve for Qc over time interval 0 to Δt:\" )\n",
    "Q = v * var * v.T\n",
    "# factor variance out of the matrix to make it more readable\n",
    "Q = Q / var\n",
    "sympy.MatMul(Q, var)"
   ]
  },
  {
   "cell_type": "code",
   "execution_count": 98,
   "metadata": {},
   "outputs": [],
   "source": [
    "## Euler Method/runge_kutta method\n",
    "# [LINEARIZE] arbitrary ODE by\n",
    "# finding tangent of curve within time frame to predict point at next time step\n",
    "#  NOTE:  [Accuracy improves with step size, but so does computation time (O(n))]\n",
    "def euler(t, tmax, y, dx, step=1.):\n",
    "    ys = []\n",
    "    while t < tmax:\n",
    "        y = y + step*dx(t, y)\n",
    "        ys.append(y)\n",
    "        t +=step        \n",
    "    return ys\n",
    "def dx(t, y): \n",
    "    return y\n",
    "\n",
    "# Alternatively, runge kutta method offers speed + precision\n",
    "def runge_kutta4(y, x, dx, f):\n",
    "    \"\"\"computes 4th order Runge-Kutta for dy/dx.\n",
    "    y is the initial value for y\n",
    "    x is the initial value for x\n",
    "    dx is the difference in x (e.g. the time step)\n",
    "    f is a callable function (y, x) that you supply \n",
    "    to compute dy/dx for the specified values.\n",
    "    \"\"\"\n",
    "    \n",
    "    k1 = dx * f(y, x)\n",
    "    k2 = dx * f(y + 0.5*k1, x + 0.5*dx)\n",
    "    k3 = dx * f(y + 0.5*k2, x + 0.5*dx)\n",
    "    k4 = dx * f(y + k3, x + dx)\n",
    "    \n",
    "    return y + (k1 + 2*k2 + 2*k3 + k4) / 6."
   ]
  },
  {
   "cell_type": "code",
   "execution_count": 95,
   "metadata": {},
   "outputs": [
    {
     "data": {
      "image/png": "[encoded data removed]",
      "text/plain": [
       "<matplotlib.figure.Figure at 0x10f38a240>"
      ]
     },
     "metadata": {},
     "output_type": "display_data"
    },
    {
     "name": "stdout",
     "output_type": "stream",
     "text": [
      "Final Error:  0.00109194480299\n",
      "Computation Time:  0.23275113105773926 (s)\n"
     ]
    }
   ],
   "source": [
    "# Testing Euler method\n",
    "start = time.time()\n",
    "ys = euler(0, 4, 1, dx, step=0.00001)\n",
    "end = time.time()\n",
    "plt.subplot(1,2,1)\n",
    "plt.title('Computed')\n",
    "plt.plot(np.linspace(0, 4, len(ys)),ys)\n",
    "plt.subplot(1,2,2)\n",
    "t = np.linspace(0, 4, 20)\n",
    "plt.title('Exact')\n",
    "plt.plot(t, np.exp(t))\n",
    "plt.show()\n",
    "print(\"Final Error: \",np.sum(np.exp(t[-1])-ys[-1]))\n",
    "print(\"Computation Time: \",end - start,\"(s)\")"
   ]
  },
  {
   "cell_type": "code",
   "execution_count": 103,
   "metadata": {},
   "outputs": [
    {
     "data": {
      "image/png": "[encoded data removed]",
      "text/plain": [
       "<matplotlib.figure.Figure at 0x10f2d9da0>"
      ]
     },
     "metadata": {},
     "output_type": "display_data"
    },
    {
     "name": "stdout",
     "output_type": "stream",
     "text": [
      "max error 6.234909388780352e-06\n"
     ]
    }
   ],
   "source": [
    "# Testing runge Kutta method\n",
    "t = 0.\n",
    "y = 1.\n",
    "dt = .1\n",
    "\n",
    "ys, ts = [], []\n",
    "\n",
    "def func(y,t):\n",
    "    return t*math.sqrt(y)\n",
    "\n",
    "while t <= 4:\n",
    "    y = runge_kutta4(y, t, dt, func)\n",
    "    t += dt\n",
    "    ys.append(y)\n",
    "    ts.append(t)\n",
    "\n",
    "exact = [(t**2 + 4)**2 / 16. for t in ts]\n",
    "plt.plot(ts, ys)\n",
    "plt.plot(ts, exact)\n",
    "plt.show()\n",
    "error = np.array(exact) - np.array(ys)\n",
    "print(\"max error {}\".format(max(error)))"
   ]
  },
  {
   "cell_type": "code",
   "execution_count": null,
   "metadata": {
    "collapsed": true
   },
   "outputs": [],
   "source": []
  }
 ],
 "metadata": {
  "kernelspec": {
   "display_name": "Python 3",
   "language": "python",
   "name": "python3"
  },
  "language_info": {
   "codemirror_mode": {
    "name": "ipython",
    "version": 3
   },
   "file_extension": ".py",
   "mimetype": "text/x-python",
   "name": "python",
   "nbconvert_exporter": "python",
   "pygments_lexer": "ipython3",
   "version": "3.6.1"
  }
 },
 "nbformat": 4,
 "nbformat_minor": 2
}
