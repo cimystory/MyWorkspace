{
 "cells": [
  {
   "cell_type": "code",
   "execution_count": 1,
   "metadata": {
    "collapsed": true
   },
   "outputs": [],
   "source": [
    "from __future__ import print_function, division\n",
    "import matplotlib.pyplot as plt\n",
    "import math\n",
    "import numpy as np\n",
    "\n",
    "####### Neural Net dependencies ###########\n",
    "from layers import Dropout, Activation, Dense\n",
    "from neural_network import NeuralNet\n",
    "import loss_funcs as loss_funcs\n",
    "import optimizers as optimizers\n",
    "from activation_funcs import Sigmoid, ReLU, LeakyReLU, TanH, SoftMax\n",
    "from data_manipulation import one_hot_encode,shuffle_data,train_test_split\n",
    "##### Load datasets ##############\n",
    "#from tensorflow.examples.tutorials.mnist import input_data\n",
    "#mnist = input_data.read_data_sets(\"MNIST_data/\", one_hot=True)\n",
    "from sklearn import datasets\n",
    "data  = datasets.load_digits()"
   ]
  },
  {
   "cell_type": "code",
   "execution_count": 2,
   "metadata": {},
   "outputs": [
    {
     "name": "stderr",
     "output_type": "stream",
     "text": [
      "100% (50 of 50) |#########################| Elapsed Time: 0:00:06 Time: 0:00:06\n"
     ]
    }
   ],
   "source": [
    "#X = mnist.train.images\n",
    "#y = np.argmax(mnist.train.labels,axis=1)\n",
    "X = data.data\n",
    "y = data.target\n",
    "\n",
    "X_train, X_test, y_train, y_test = train_test_split(X, y, test_size=0.4, seed=1)\n",
    "\n",
    "n_samples = np.shape(X)\n",
    "nhidden_nodes = 512\n",
    "\n",
    "nmodel = NeuralNet(optimizer = optimizers.Adam(learningRate = 0.02), loss = loss_funcs.CrossEntropy(), validation_data = (X_test,y_test) )\n",
    "h1_d   = Dense(nhidden_nodes,input_shape=(8*8,))\n",
    "h1_a   = Activation('sigmoid')\n",
    "drop   = Dropout(0.25)\n",
    "out    = Dense(10,input_shape=(nhidden_nodes,))\n",
    "out_a  = Activation('softmax')\n",
    "\n",
    "\n",
    "nmodel.addLayer(h1_d)\n",
    "nmodel.addLayer(h1_a)\n",
    "nmodel.addLayer(drop)\n",
    "nmodel.addLayer(out)\n",
    "nmodel.addLayer(out_a)\n",
    "\n",
    "train_err,val_err = nmodel.train(X_train, y_train, n_epochs=50, batch_size=256)"
   ]
  },
  {
   "cell_type": "code",
   "execution_count": 3,
   "metadata": {},
   "outputs": [
    {
     "data": {
      "image/png": "[encoded data removed]",
      "text/plain": [
       "<matplotlib.figure.Figure at 0x114341e10>"
      ]
     },
     "metadata": {},
     "output_type": "display_data"
    },
    {
     "name": "stdout",
     "output_type": "stream",
     "text": [
      "Model Accuracy: 0.977716\n"
     ]
    }
   ],
   "source": [
    "plt.plot(train_err)\n",
    "plt.plot(val_err)\n",
    "plt.legend(['training error','validation error'])\n",
    "plt.xlabel('Epoch')\n",
    "plt.ylabel('Cost')\n",
    "plt.show()\n",
    "\n",
    "yhat   = nmodel.predict(X_test)\n",
    "ylabel = np.argmax(yhat,axis=1)\n",
    "testscore = ylabel == y_test\n",
    "testscore.astype(int)\n",
    "print(\"Model Accuracy: %2f\"%(np.sum(testscore)/len(testscore)))"
   ]
  },
  {
   "cell_type": "code",
   "execution_count": 4,
   "metadata": {},
   "outputs": [
    {
     "name": "stdout",
     "output_type": "stream",
     "text": [
      "[ 0.01  0.01  0.01  0.01  0.01  0.01  0.01  0.01  0.01  0.99]\n"
     ]
    },
    {
     "data": {
      "image/png": "[encoded data removed]",
      "text/plain": [
       "<matplotlib.figure.Figure at 0x111d42fd0>"
      ]
     },
     "metadata": {},
     "output_type": "display_data"
    }
   ],
   "source": [
    "#Not hallucinating correctly\n",
    "label = 9\n",
    "y_hallucinate = np.zeros(10)+0.01\n",
    "y_hallucinate[label] = 0.99\n",
    "print(y_hallucinate)\n",
    "x_hallucinate = nmodel.backQuery(y_hallucinate)\n",
    "plt.imshow(np.reshape(x_hallucinate,(8,8)), cmap='Greys', interpolation='None')\n",
    "plt.show()"
   ]
  },
  {
   "cell_type": "code",
   "execution_count": null,
   "metadata": {
    "collapsed": true
   },
   "outputs": [],
   "source": []
  },
  {
   "cell_type": "code",
   "execution_count": null,
   "metadata": {
    "collapsed": true
   },
   "outputs": [],
   "source": []
  },
  {
   "cell_type": "code",
   "execution_count": null,
   "metadata": {
    "collapsed": true
   },
   "outputs": [],
   "source": []
  },
  {
   "cell_type": "code",
   "execution_count": null,
   "metadata": {
    "collapsed": true
   },
   "outputs": [],
   "source": []
  }
 ],
 "metadata": {
  "kernelspec": {
   "display_name": "Python 3",
   "language": "python",
   "name": "python3"
  },
  "language_info": {
   "codemirror_mode": {
    "name": "ipython",
    "version": 3
   },
   "file_extension": ".py",
   "mimetype": "text/x-python",
   "name": "python",
   "nbconvert_exporter": "python",
   "pygments_lexer": "ipython3",
   "version": "3.6.1"
  }
 },
 "nbformat": 4,
 "nbformat_minor": 2
}
