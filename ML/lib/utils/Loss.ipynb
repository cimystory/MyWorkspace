{
 "cells": [
  {
   "cell_type": "code",
   "execution_count": 1,
   "metadata": {
    "collapsed": true
   },
   "outputs": [],
   "source": [
    "from __future__ import division\n",
    "import numpy as np\n",
    "# All gradients are computed as dL/dy\n",
    "\n",
    "class SquareLoss():\n",
    "    # Used to measure error for linear regression \n",
    "    # (i.e. log likelihood P(Y|X,ND(0,sig)) --> y = wx + b + ND(0,sig))\n",
    "    def __init__(self): \n",
    "        pass\n",
    "    def function(self,yhat,y):\n",
    "        return 0.5 * np.power(y-yhat,2)\n",
    "    def gradient(self,yhat,y):\n",
    "        return -(y-yhat)\n",
    "\n",
    "class CrossEntropy():\n",
    "    # Used to measure error for logistic regression \n",
    "    # (i.e. log likelihood P(Y|X,bin(0,1)) --> sum[(y)ln(rho)+(1-y)ln(1-rho)]/N\n",
    "    #     * rho depends on activation function (most likely Sigmoid)\n",
    "    def __init__(self): \n",
    "        pass\n",
    "    def function(self,y,rho):\n",
    "        # Avoid division by zero\n",
    "        rho = np.clip(rho, 1e-15, 1 - 1e-15)\n",
    "        return -y * np.log(rho) - (1 - y) * np.log(1 - rho)\n",
    "    def gradient(self,y,rho):\n",
    "        # Avoid division by zero\n",
    "        rho = np.clip(rho, 1e-15, 1 - 1e-15)\n",
    "        return -(y / rho) + (1 - y) * (1 - rho)"
   ]
  },
  {
   "cell_type": "code",
   "execution_count": 2,
   "metadata": {
    "collapsed": true
   },
   "outputs": [],
   "source": [
    "x = CrossEntropy()\n"
   ]
  },
  {
   "cell_type": "code",
   "execution_count": null,
   "metadata": {
    "collapsed": true
   },
   "outputs": [],
   "source": []
  }
 ],
 "metadata": {
  "kernelspec": {
   "display_name": "Python 3",
   "language": "python",
   "name": "python3"
  },
  "language_info": {
   "codemirror_mode": {
    "name": "ipython",
    "version": 3
   },
   "file_extension": ".py",
   "mimetype": "text/x-python",
   "name": "python",
   "nbconvert_exporter": "python",
   "pygments_lexer": "ipython3",
   "version": "3.6.1"
  }
 },
 "nbformat": 4,
 "nbformat_minor": 2
}
