{
 "cells": [
  {
   "cell_type": "code",
   "execution_count": 10,
   "metadata": {
    "collapsed": true
   },
   "outputs": [],
   "source": [
    "from __future__ import print_function\n",
    "from sklearn import datasets\n",
    "from terminaltables import AsciiTable\n",
    "import sys\n",
    "import os\n",
    "import math\n",
    "import copy\n",
    "import pandas as pd\n",
    "import matplotlib.pyplot as plt\n",
    "import numpy as np\n",
    "# Import helper functions\n"
   ]
  },
  {
   "cell_type": "code",
   "execution_count": 11,
   "metadata": {
    "collapsed": true
   },
   "outputs": [],
   "source": [
    "class NeuralNet():\n",
    "    \"\"\"Generic class to model NeuralNet\n",
    "    \"\"\"\n",
    "    def __init__(self,optimizer,loss):\n",
    "        # initialize Neural Net superclass\n",
    "        self.loss      = loss\n",
    "        self.optimizer = optimizer\n",
    "        self.layers    = []\n",
    "        \n",
    "    def addLayer(self,layer):\n",
    "        # if there are layers int he network already then, \n",
    "        #     set new layers input shape as previous layers output shape\n",
    "        if self.layers:\n",
    "            layer.input_shape = self.layers[-1].output_shape\n",
    "            \n",
    "        # set optimizer\n",
    "        layer.initialize(self.optimizer)\n",
    "    \n",
    "    def fit(self, X, y, n_epochs, batch_size):\n",
    "\n",
    "        # Convert to one-hot encoding\n",
    "        y = to_categorical(y.astype(\"int\"))\n",
    "\n",
    "        n_samples = np.shape(X)[0]\n",
    "        n_batches = int(n_samples / batch_size)\n",
    "        \n",
    "        bar = progressbar.ProgressBar(widgets=bar_widgets)\n",
    "        for _ in bar(range(n_epochs)):\n",
    " #           idx = range(n_samples)\n",
    "            idx = np.arange(n_samples)\n",
    "            np.random.shuffle(idx)\n",
    "\n",
    "            batch_t_error = 0   # Mean batch training error\n",
    "            for i in range(n_batches):\n",
    "                X_batch = X[idx[i*batch_size:(i+1)*batch_size]]\n",
    "                y_batch = y[idx[i*batch_size:(i+1)*batch_size]]\n",
    "                loss, _ = self.train_on_batch(X_batch, y_batch)\n",
    "                batch_t_error += loss\n",
    "\n",
    "            # Save the epoch mean error\n",
    "            self.errors[\"training\"].append(batch_t_error / n_batches)\n",
    "            if self.X_val.any():\n",
    "                # Calculate the validation error\n",
    "                y_val_p = self._forward_pass(self.X_val)\n",
    "                validation_loss = np.mean(self.loss_function.loss(self.y_val, y_val_p))\n",
    "                self.errors[\"validation\"].append(validation_loss)\n",
    "\n",
    "        return self.errors[\"training\"], self.errors[\"validation\"]\n",
    "    \n",
    "    def _forward_pass(self, X, training=True):\n",
    "        # Calculate the output of the NN. The output of layer l1 becomes the\n",
    "        # input of the following layer l2\n",
    "        layer_output = X\n",
    "        for layer in self.layers:\n",
    "            layer_output = layer.forward_pass(layer_output, training)\n",
    "\n",
    "        return layer_output\n",
    "\n",
    "    def _backward_pass(self, loss_grad):\n",
    "        # Propogate the gradient 'backwards' and update the weights\n",
    "        # in each layer\n",
    "        acc_grad = loss_grad\n",
    "        for layer in reversed(self.layers):\n",
    "            acc_grad = layer.backward_pass(acc_grad)\n",
    "            \n",
    "    # Use the trained model to predict labels of X\n",
    "    def predict(self, X):\n",
    "        return self._forward_pass(X, training=False)"
   ]
  },
  {
   "cell_type": "code",
   "execution_count": null,
   "metadata": {
    "collapsed": true
   },
   "outputs": [],
   "source": []
  }
 ],
 "metadata": {
  "kernelspec": {
   "display_name": "Python 3",
   "language": "python",
   "name": "python3"
  },
  "language_info": {
   "codemirror_mode": {
    "name": "ipython",
    "version": 3
   },
   "file_extension": ".py",
   "mimetype": "text/x-python",
   "name": "python",
   "nbconvert_exporter": "python",
   "pygments_lexer": "ipython3",
   "version": "3.6.1"
  }
 },
 "nbformat": 4,
 "nbformat_minor": 2
}
